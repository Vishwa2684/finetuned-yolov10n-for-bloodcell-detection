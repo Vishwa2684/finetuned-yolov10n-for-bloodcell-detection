{
 "cells": [
  {
   "cell_type": "code",
   "execution_count": 6,
   "metadata": {},
   "outputs": [
    {
     "name": "stdout",
     "output_type": "stream",
     "text": [
      "\n",
      "image 1/1 c:\\Users\\vishw\\Desktop\\IS AI\\dataset\\val\\images\\BloodImage_00000.jpg: 480x640 1 WBC, 24 RBCs, 21.9ms\n",
      "Speed: 2.0ms preprocess, 21.9ms inference, 0.0ms postprocess per image at shape (1, 3, 480, 640)\n"
     ]
    },
    {
     "data": {
      "text/plain": [
       "'results_BloodImage_00000.jpg'"
      ]
     },
     "execution_count": 6,
     "metadata": {},
     "output_type": "execute_result"
    }
   ],
   "source": [
    "from ultralytics import YOLO\n",
    "\n",
    "# Load the trained YOLOv10n model (replace with your model path)\n",
    "model = YOLO('./yolov10n_blood.pt')  # Use the path to your fine-tuned model\n",
    "\n",
    "# Run inference on an image (replace with your image path)\n",
    "results = model('./dataset/val/images/BloodImage_00000.jpg')[0]  # Path to the input image\n",
    "\n",
    "# Show the results\n",
    "results  # This will display the image with detected bounding boxes\n",
    "\n",
    "# Optionally, you can save the results to a new file\n",
    "results.save()  # Saves the image with annotations in the 'runs/detect' folder"
   ]
  }
 ],
 "metadata": {
  "kernelspec": {
   "display_name": "Python 3",
   "language": "python",
   "name": "python3"
  },
  "language_info": {
   "codemirror_mode": {
    "name": "ipython",
    "version": 3
   },
   "file_extension": ".py",
   "mimetype": "text/x-python",
   "name": "python",
   "nbconvert_exporter": "python",
   "pygments_lexer": "ipython3",
   "version": "3.12.8"
  }
 },
 "nbformat": 4,
 "nbformat_minor": 2
}
